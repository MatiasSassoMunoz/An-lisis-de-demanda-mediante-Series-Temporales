{
 "cells": [
  {
   "cell_type": "markdown",
   "metadata": {},
   "source": [
    "# Tarea 1 (Semana 1)\n",
    "\n",
    "\n",
    "\n",
    "## Instalación de un ambiente virtual en Python\n",
    "\n",
    "Primero es necesario definir que es un entorno.\n",
    "\n",
    "Entorno Virtual: es un mecanismo creado con el objetivo de aislar recursos como librerías y entornos de ejecución del sistema principal o de otros entornos virtuales. Esto significa que en el mismo sistema es posible tener instaladas múltiples versiones de una misma librería ( o paquete ) sin crear ningún tipo de conflicto (lo cual ayuda a tener un mejor funcionamiento del lenguaje dependiendo de la versión de mismo y de las versiones de los paquetes o librerías ).\n",
    "\n",
    "Para utilizar el entorno virtual se debe instalar virtualenv, como requisito se tiene que tener instalado pip (es una herramienta para instalar paquetes de Python).\n",
    "\n",
    "Una vez que se instale pip y posteriormente virtualenv, es posible crear una entorno mediante el siguiente código:"
   ]
  },
  {
   "cell_type": "raw",
   "metadata": {},
   "source": [
    "python3 -m venv env"
   ]
  },
  {
   "cell_type": "markdown",
   "metadata": {},
   "source": [
    " (en este caso se está ocupando python3 y la sintaxis anterior es válida para equipos Linux o macOS) donde \"env\" es el nombre que se le quiera dar al entorno por crear y de esta manera se instala un entorno (o ambiente) virtual en Python."
   ]
  },
  {
   "cell_type": "markdown",
   "metadata": {},
   "source": [
    "\n",
    "# Manejo de un Proyecto en Github\n",
    "\n",
    "Para crear un proyecto en Github, primero es necesario crear una cuenta Github. \n",
    "\n",
    "Con la cuenta ya creada es posible crear un proyecto, para crearlo desde cero, habrá que comenzar generando los archivos del mismo y luego subiéndolos a la página ,para poder subir los archivos se tendrán que utilizar algunos comandos, antes de ocupar cualquier comando para editar el proyecto será necesario descargar git, para esto basta ingresar el siguiente comando en la terminal:"
   ]
  },
  {
   "cell_type": "raw",
   "metadata": {},
   "source": [
    "sudo apt-get install git"
   ]
  },
  {
   "cell_type": "markdown",
   "metadata": {},
   "source": [
    "Con git ya instalado se deben ingresar los siguientes comandos en la terminal:"
   ]
  },
  {
   "cell_type": "raw",
   "metadata": {},
   "source": [
    "touch README.md\n",
    "git init\n",
    "git add README.md\n",
    "git commit -m \"comentario\"\n",
    "git remote add origin https://github.com/username/Repository.git\n",
    "git push -u origin master"
   ]
  },
  {
   "cell_type": "markdown",
   "metadata": {},
   "source": [
    "Para subir un proyecto ya realizado a GitHub, habrá que seguir exactamente los mismos pasos, ya que para iniciar un proyecto nuevo, habrá que subir los archivos creados y luego modificarlos en el editor de la página.\n",
    "\n",
    "En este caso, los archivos junto con su contenido, ya están hechos. Solo hay que subirlos y editarlos si surge algún inconveniente.\n",
    "\n",
    "Para subir un archivo hay que ubicarse en la carpeta del repositorio y seguir estos pasos:"
   ]
  },
  {
   "cell_type": "raw",
   "metadata": {},
   "source": [
    "git add archivo\n",
    "git commit -m \"comentario\"\n",
    "git push"
   ]
  },
  {
   "cell_type": "markdown",
   "metadata": {},
   "source": [
    "Es importante ocupar los tres comandos, ya que si no se ingresa un comentario, no se realiza el cambio."
   ]
  },
  {
   "cell_type": "markdown",
   "metadata": {},
   "source": [
    "# Librerías Numpy , Pandas y Matplotlib \n",
    "\n",
    "\n",
    "\n",
    "## Numpy\n",
    "\n",
    "* NumPy es el paquete fundamental para la computación científica con Python. Contiene entre otras cosas:\n",
    "\n",
    "* Un poderoso objeto de matriz N-dimensional\n",
    "\n",
    "* Funciones sofisticadas (de transmisión)\n",
    "\n",
    "* Herramientas para integrar código C / C ++ y Fortran\n",
    "\n",
    "* Álgebra lineal útil, transformada de Fourier y capacidades de números aleatorios\n",
    "\n",
    "Además de sus usos científicos, NumPy también se puede utilizar como un eficiente contenedor multidimensional de datos genéricos. Se pueden definir tipos de datos arbitrarios. Esto permite que NumPy se integre sin problemas y rápidamente con una amplia variedad de bases de datos.\n",
    "\n",
    "## Operaciones básicas de NumPy\n",
    "\n",
    "NumPy proporciona una estructura de ndarray para almacenar datos numéricos de manera contigua. También implementa operaciones matemáticas rápidas en ndarrays, que explotan esta contigüidad. Brevedad de la sintaxis para las operaciones de matriz.La forma de llamar a la librería Numpy y algunas funciones de esta librería se muestran a continuación: "
   ]
  },
  {
   "cell_type": "raw",
   "metadata": {},
   "source": [
    "# importar libreria: numpy\n",
    "import numpy as np"
   ]
  },
  {
   "cell_type": "code",
   "execution_count": 9,
   "metadata": {},
   "outputs": [],
   "source": [
    "# Arreglo de ceros: np.zeros(shape)\n",
    "# print(\"Zeros:\")\n",
    "# print( np.zeros((3,3)) )\n",
    "\n",
    "# Arreglos de uno: np.ones(shape)\n",
    "# print(\"\\nOnes:\")\n",
    "# print( np.ones((3,3)) )\n",
    "\n",
    "# Arreglo vacio: np.empty(shape)\n",
    "# print(\"\\nEmpty:\")\n",
    "# print( np.empty((3,3)) )\n",
    "\n",
    "# Rango de valores: np.range(start, stop, step)\n",
    "# print(\"\\nRange:\")\n",
    "# print( np.arange(0., 10., 1.) )\n",
    "\n",
    "# Grilla de valores: np.linspace(start, end, n_values)\n",
    "# print(\"\\nRegular grid:\")\n",
    "# print( np.linspace(0., 1., 9) )\n",
    "\n",
    "# Sequencia aleatoria: np.random\n",
    "# print(\"\\nRandom sequences:\")\n",
    "# print( np.random.uniform(10, size=6) )\n",
    "\n",
    "# Construccion de arreglos: np.array( python_iterable )\n",
    "# print(\"\\nArray constructor\")\n",
    "# print( np.array([2, 3, 5, 10, -1]) )"
   ]
  },
  {
   "cell_type": "markdown",
   "metadata": {},
   "source": [
    "Los outputs de las funciones anteriores son los siguientes:"
   ]
  },
  {
   "cell_type": "raw",
   "metadata": {},
   "source": [
    "Zeros:\n",
    "[[0. 0. 0.]\n",
    " [0. 0. 0.]\n",
    " [0. 0. 0.]]\n",
    "\n",
    "Ones:\n",
    "[[1. 1. 1.]\n",
    " [1. 1. 1.]\n",
    " [1. 1. 1.]]\n",
    "\n",
    "Empty:\n",
    "[[1. 1. 1.]\n",
    " [1. 1. 1.]\n",
    " [1. 1. 1.]]\n",
    "\n",
    "Range:\n",
    "[0. 1. 2. 3. 4. 5. 6. 7. 8. 9.]\n",
    "\n",
    "Regular grid:\n",
    "[0.    0.125 0.25  0.375 0.5   0.625 0.75  0.875 1.   ]\n",
    "\n",
    "Random sequences:\n",
    "[5.65753991 4.36888498 1.71450217 8.4956632  7.83558    6.91897665]\n",
    "\n",
    "Array constructor\n",
    "[ 2  3  5 10 -1"
   ]
  },
  {
   "cell_type": "markdown",
   "metadata": {},
   "source": [
    "## Pandas\n",
    "\n",
    "Pandas es un paquete de Python que proporciona estructuras de datos rápidas, flexibles y expresivas diseñadas para que trabajar con datos \"relacionales\" o \"etiquetados\" sea fácil e intuitivo. Su objetivo es ser el bloque de construcción fundamental de alto nivel para hacer análisis de datos prácticos del mundo real en Python. Además, tiene el objetivo más amplio de convertirse en la herramienta de análisis/manipulación de datos de código abierto más potente y flexible disponible en cualquier idioma. Ya está en camino hacia este objetivo.\n",
    "\n",
    "## Series y DataFrames\n",
    "\n",
    "* Las series son arreglos unidimensionales con etiquetas. Se puede pensar como una generalización de los diccionarios de Python.\n",
    "\n",
    "* Los dataframe son arreglos bidimensionales y una extensión natural de las series. Se puede pensar como la generalización de un numpy.array."
   ]
  },
  {
   "cell_type": "markdown",
   "metadata": {},
   "source": [
    "## Operaciones Básicas con series\n",
    "\n",
    "El como llamar a la librería Pandas y algunas funciones relacionadas con series se muestran a continuación:"
   ]
  },
  {
   "cell_type": "code",
   "execution_count": 11,
   "metadata": {},
   "outputs": [],
   "source": [
    "# crear serie\n",
    "# my_serie = pd.Series(range(3, 33, 3), index=list('abcdefghij'))\n",
    "\n",
    "# imprimir serie\n",
    "# print(\"serie:\")\n",
    "# print( my_serie )\n",
    "\n",
    "# tipo \n",
    "# print(\"\\ntype:\")\n",
    "# print( type(my_serie) )\n",
    "\n",
    "# valores \n",
    "# print(\"\\nvalues:\")\n",
    "# print(my_serie.values)\n",
    "\n",
    "# indice\n",
    "# print(\"\\nindex:\")\n",
    "# print(my_serie.index)\n",
    "\n",
    "# acceder al valor de la serie: directo\n",
    "# print(\"\\ndirect:\")\n",
    "# print(my_serie['b'])\n",
    "\n",
    "# acceder al valor de la serie: loc\n",
    "# print(\"\\nloc:\")\n",
    "# print(my_serie.loc['b'])\n",
    "\n",
    "\n",
    "# acceder al valor de la serie: iloc\n",
    "# print(\"\\niloc:\")\n",
    "# print(my_serie.iloc[1])\n",
    "\n",
    "# editar valores\n",
    "# print(\"\\nedit:\")\n",
    "\n",
    "# print(\"\\nold 'd':\",my_serie.loc['d'] )\n",
    "# my_serie.loc['d'] = 1000\n",
    "# print(\"new 'd':\",my_serie.loc['d'] )\n"
   ]
  },
  {
   "cell_type": "markdown",
   "metadata": {},
   "source": [
    "Los outputs de la acciones anteriores son los siguientes:"
   ]
  },
  {
   "cell_type": "raw",
   "metadata": {},
   "source": [
    "serie:\n",
    "a     3\n",
    "b     6\n",
    "c     9\n",
    "d    12\n",
    "e    15\n",
    "f    18\n",
    "g    21\n",
    "h    24\n",
    "i    27\n",
    "j    30\n",
    "dtype: int64\n",
    "\n",
    "type:\n",
    "<class 'pandas.core.series.Series'>\n",
    "\n",
    "values:\n",
    "[ 3  6  9 12 15 18 21 24 27 30]\n",
    "\n",
    "index:\n",
    "Index(['a', 'b', 'c', 'd', 'e', 'f', 'g', 'h', 'i', 'j'], dtype='object')\n",
    "\n",
    "direct:\n",
    "6\n",
    "\n",
    "loc:\n",
    "6\n",
    "\n",
    "iloc:\n",
    "6\n",
    "\n",
    "edit:\n",
    "\n",
    "old 'd': 12\n",
    "new 'd': 1000"
   ]
  },
  {
   "cell_type": "markdown",
   "metadata": {},
   "source": [
    "Algunas funciones relacionadas con dataframes se muestran a continuación:"
   ]
  },
  {
   "cell_type": "code",
   "execution_count": 12,
   "metadata": {},
   "outputs": [],
   "source": [
    "# imprimir las primeras 10 filas\n",
    "# print(\"first 5 rows:\")\n",
    "# print(player_data.head(5))\n",
    "\n",
    "# imprimir las ultimas 10 filas\n",
    "# print(\"\\nlast 5 rows:\")\n",
    "# print(player_data.tail(5))\n",
    "\n",
    "# tipo\n",
    "# print(\"\\ntype of dataframe:\")\n",
    "# print(type(player_data))\n",
    "\n",
    "# tipo por columns\n",
    "# print(\"\\ntype of columns:\")\n",
    "# print(player_data.dtypes)\n",
    "\n",
    "# dimension\n",
    "# print(\"\\nshape:\")\n",
    "# print(player_data.shape)\n",
    "\n",
    "# columna posicion\n",
    "# print(\"\\ncolumn 'position': \")\n",
    "# print(player_data['position'].head())"
   ]
  },
  {
   "cell_type": "markdown",
   "metadata": {},
   "source": [
    "Los outputs de las acciones anteriores son los siguientes:"
   ]
  },
  {
   "cell_type": "raw",
   "metadata": {},
   "source": [
    "first 5 rows:\n",
    "                     year_start  year_end position height  weight  \\\n",
    "name                                                                \n",
    "Alaa Abdelnaby             1991      1995      F-C   6-10   240.0   \n",
    "Zaid Abdul-Aziz            1969      1978      C-F    6-9   235.0   \n",
    "Kareem Abdul-Jabbar        1970      1989        C    7-2   225.0   \n",
    "Mahmoud Abdul-Rauf         1991      2001        G    6-1   162.0   \n",
    "Tariq Abdul-Wahad          1998      2003        F    6-6   223.0   \n",
    "\n",
    "                           birth_date                                college  \n",
    "name                                                                          \n",
    "Alaa Abdelnaby          June 24, 1968                        Duke University  \n",
    "Zaid Abdul-Aziz         April 7, 1946                  Iowa State University  \n",
    "Kareem Abdul-Jabbar    April 16, 1947  University of California, Los Angeles  \n",
    "Mahmoud Abdul-Rauf      March 9, 1969             Louisiana State University  \n",
    "Tariq Abdul-Wahad    November 3, 1974              San Jose State University  \n",
    "\n",
    "last 5 rows:\n",
    "             year_start  year_end position height  weight         birth_date  \\\n",
    "name                                                                           \n",
    "Ante Zizic         2018      2018      F-C   6-11   250.0    January 4, 1997   \n",
    "Jim Zoet           1983      1983        C    7-1   240.0  December 20, 1953   \n",
    "Bill Zopf          1971      1971        G    6-1   170.0       June 7, 1948   \n",
    "Ivica Zubac        2017      2018        C    7-1   265.0     March 18, 1997   \n",
    "Matt Zunic         1949      1949      G-F    6-3   195.0  December 19, 1919   \n",
    "\n",
    "                                  college  \n",
    "name                                       \n",
    "Ante Zizic                            NaN  \n",
    "Jim Zoet            Kent State University  \n",
    "Bill Zopf             Duquesne University  \n",
    "Ivica Zubac                           NaN  \n",
    "Matt Zunic   George Washington University  \n",
    "\n",
    "type of dataframe:\n",
    "<class 'pandas.core.frame.DataFrame'>\n",
    "\n",
    "type of columns:\n",
    "year_start      int64\n",
    "year_end        int64\n",
    "position       object\n",
    "height         object\n",
    "weight        float64\n",
    "birth_date     object\n",
    "college        object\n",
    "dtype: object\n",
    "\n",
    "shape:\n",
    "(4550, 7)\n",
    "\n",
    "column 'position': \n",
    "name\n",
    "Alaa Abdelnaby         F-C\n",
    "Zaid Abdul-Aziz        C-F\n",
    "Kareem Abdul-Jabbar      C\n",
    "Mahmoud Abdul-Rauf       G\n",
    "Tariq Abdul-Wahad        F\n",
    "Name: position, dtype: object"
   ]
  },
  {
   "cell_type": "markdown",
   "metadata": {},
   "source": [
    "## Matplolib\n",
    "\n",
    "Matplotlib es probablemente el paquete de Python más utilizado para gráficos 2D. Proporciona una manera muy rápida de visualizar datos y figuras con calidad de publicación en varios formatos. \n",
    "\n",
    "El llamado a la librería Matplotlib y algunas de sus funciones se muestran a continuación:"
   ]
  },
  {
   "cell_type": "code",
   "execution_count": 16,
   "metadata": {},
   "outputs": [],
   "source": [
    "# import matplotlib.pyplot as plt\n",
    "\n",
    "# Crea un gráfico a partir de los vectores \"x\" e \"y\" \n",
    "# plt.plot(x,y)\n",
    "\n",
    "# Permite poner un nombre al eje horizontal\n",
    "# plt.xlabel('x')\n",
    "\n",
    "# Permite colocar un nombre al eje vertical \n",
    "# plt.ylabel('y')\n",
    "\n",
    "# Esta función permite escribir un título para un gráfico\n",
    "# plt.title('Lab DLS')\n",
    "\n",
    "# Muestra el gráfico trabajado anteriormente\n",
    "# plt.show()\n",
    "\n",
    "# Modifica el grosor de la curva en el gráfico\n",
    "# plt.plot(x,y,linewidth=4)\n",
    "\n",
    "# Configura el color de la curva en el gráfico (en este caso rojo)\n",
    "# plt.plot(x,y,color='r') "
   ]
  }
 ],
 "metadata": {
  "kernelspec": {
   "display_name": "Python 3",
   "language": "python",
   "name": "python3"
  },
  "language_info": {
   "codemirror_mode": {
    "name": "ipython",
    "version": 3
   },
   "file_extension": ".py",
   "mimetype": "text/x-python",
   "name": "python",
   "nbconvert_exporter": "python",
   "pygments_lexer": "ipython3",
   "version": "3.6.9"
  }
 },
 "nbformat": 4,
 "nbformat_minor": 2
}
