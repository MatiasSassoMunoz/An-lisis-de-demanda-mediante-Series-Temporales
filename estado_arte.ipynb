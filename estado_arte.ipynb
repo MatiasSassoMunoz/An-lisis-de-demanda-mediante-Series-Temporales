{
 "cells": [
  {
   "cell_type": "markdown",
   "metadata": {},
   "source": [
    "# Pronóstico de demanda de ventas en el comercio electrónico mediante metodología de red neuronal del tipo LSTM"
   ]
  },
  {
   "cell_type": "markdown",
   "metadata": {},
   "source": [
    "## Introducción"
   ]
  },
  {
   "cell_type": "markdown",
   "metadata": {},
   "source": [
    "Hoy en día es de suma importancia el comercio online (o electrónico) debido a la facilidad de poder comprar diferentes productos sin tener que salir de la comodidad del hogar. Puesto que cada vez es más común hacer compras online, se han hecho estudios respecto a las conductas de compra de los clientes y así poder sugerirles determinados productos relacionados al producto buscado por los clientes, aquí es en donde se hace necesario poder predecir que productos se venderán en cierta época , o qué productos busca cierto perfil de clientes , o qué productos aumentan su demanda junto con la demanda de otros relacionados , por ello es necesario formular modelos precisos y confiables, los cuales sean capaces de hacer pronósticos acertados acerca de la demanda de los diferentes ítems del comercio. Estos modelos ayudan a que el comercio online crezca y se pueda seguir desarrollando. Para lograr obtener estos modelos es necesario utilizar series temporales.               "
   ]
  },
  {
   "cell_type": "markdown",
   "metadata": {},
   "source": [
    "# ¿Qué es una Serie Temporal ( o de tiempo )?"
   ]
  },
  {
   "cell_type": "markdown",
   "metadata": {},
   "source": [
    "Una serie temporal o de tiempo es una sucesión de datos medidos en determinados momentos y ordenados cronológicamente. Los datos pueden estar espaciados a intervalos iguales (como la temperatura en un observatorio meteorológico en días sucesivos al mediodía) o desiguales (como el peso de un perro en sucesivas mediciones en el veterinario). Para el análisis de las series temporales se usan métodos que ayudan a interpretarlas y que permiten extraer información representativa sobre las relaciones subyacentes entre los datos de la serie o de diversas series y que permiten en diferente medida y con distinta confianza extrapolar o interpolar los datos y así predecir el comportamiento de la serie en momentos no observados, sean en el futuro (extrapolación pronóstica), en el pasado (extrapolación retrógrada) o en momentos intermedios (interpolación).\n",
    "\n",
    "El objetivo fundamental del estudio de las series temporales es el conocimiento del comportamiento de una variable a través del tiempo para, a partir de dicho conocimiento, y bajo el supuesto de que no van a producirse cambios estructurales, poder realizar predicciones, es decir, determinar qué valor tomará la variable objeto de estudio en uno o más períodos de tiempo situados en el futuro, mediante la aplicación de un determinado modelo calculado previamente.\n",
    "\n",
    "Típicamente, una serie temporal se representa graficamente mediante la representación de los valores de las variables aleatorias en el eje vertical y el tiempo en el eje horizontal."
   ]
  },
  {
   "cell_type": "markdown",
   "metadata": {},
   "source": [
    "# Modelos ARIMA "
   ]
  },
  {
   "cell_type": "markdown",
   "metadata": {},
   "source": [
    "En estadística y econometría, en particular en series temporales, un modelo autorregresivo integrado de promedio móvil o ARIMA es un modelo estadístico que utiliza variaciones y regresiones de datos estadísticos con el fin de encontrar patrones para una predicción hacia el futuro. Se trata de un modelo dinámico de series temporales, es decir, las estimaciones futuras vienen explicadas por los datos del pasado y no por variables independientes."
   ]
  },
  {
   "cell_type": "markdown",
   "metadata": {},
   "source": [
    "## Redes  Neuronales o Neural Networks (NN) \n",
    " Las Redes Neuronales son un campo muy importante dentro de la Inteligencia Artificial. Inspirándose en el comportamiento conocido del cerebro humano (principalmente el referido a las neuronas y sus conexiones), trata de crear modelos artificiales que solucionen problemas difíciles de resolver mediante técnicas algorítmicas convencionales. "
   ]
  },
  {
   "cell_type": "markdown",
   "metadata": {},
   "source": [
    "## Aprendizaje Profundo (Deep Learning)\n",
    "El aprendizaje profundo está formado por redes profundas de varias patologías. Las redes neurales llevan cierto tiempo en escena, pero el desarrollo de numerosas capas de redes (cada una brinda alguna función, como la extracción de características) ha hecho que utilizarlas sea más práctico. Añadir más capas significa que hay más interconexiones y ponderaciones entre y dentro de las capas. "
   ]
  },
  {
   "cell_type": "markdown",
   "metadata": {},
   "source": [
    "# Formulación Matemática de una Serie Temporal"
   ]
  },
  {
   "cell_type": "markdown",
   "metadata": {},
   "source": [
    "Sea una variable $Y$ la cual desde el momento 1 hasta el momento $T$ toma los valores $\\{Y_{1},Y_{2},...,Y_{T-1},Y_{T}\\}$ (este es el conjunto de información disponible).Dada esta información, la predicción para el período $T+1$ se puede expresar como $\\hat{Y}_{T+1/T}$ , con esta notación se quiere dar a entender que la prediccción $T+1$ se hizo a partir de la información disponible de la variable en el momento $T$. Analogamente, para la predicción $T+2$ y para el período $T+m$, con la información dada en el momento $T$, vendrá dada, respectivamente por $\\hat{Y}_{T+2/T},...,\\hat{Y}_{T+m/T}$, que serán predicciones de 2 y $m$ períodos hacia adelante.\n",
    "\n",
    "Si, genéricamente, para el período $t$ se efectúa una predicción con la información disponible en $t–1$, y a la que se designó por $\\hat{Y}_{t/t-1}$, para el período $t$ se puede hacer una comparación de este valor con el que realmente se observa ($Y_{t}$). La diferencia entre ambos valores será el error de predicción de un período hacia adelante y vendrá dado por:\n",
    "\n",
    "$$e_{t/t-1}=Y_{t}-Y_{t/t-1}$$\n",
    "\n",
    "Cuando un fenómeno es determinista y se conoce la ley que lo determina, las predicciones son exactas, verificándose que $e_{t/t-1}=0$. Por el contrario, si el fenómeno es poco sistemático o el modelo es inadecuado, entonces los errores de predicción que se vayan obteniendo serán grandes.\n",
    "\n",
    "Para cuantificar globalmente los errores de predicción se utilizan los siguientes estadísticos: la Raíz del Error Cuadrático Medio (RECM) y el Error Absoluto Medio (EAM). En el caso de que se disponga de $T$ observaciones y se hayan hecho predicciones a partir de la observación 2, las fórmulas para la obtención de la RECM y el EAM son las siguientes:\n",
    "\n",
    "$$RECM=\\sqrt{\\frac{\\sum_{t=2}^{T}(Y_{t}-\\hat{Y}_{t/t-1})^{2}}{T-1}}$$\n",
    "\n",
    "$$EAM=\\frac{\\sum_{t=2}^{T}(Y_{t}-\\hat{Y}_{t/t-1})^{2}}{T-1}$$\n",
    "\n",
    "De forma análoga, se pueden aplicar la RECM y el EAM en predicciones de $2,3,...,m$ períodos hacia adelante.\n",
    "\n"
   ]
  },
  {
   "cell_type": "markdown",
   "metadata": {},
   "source": [
    "# Planteamiento del Problema"
   ]
  },
  {
   "cell_type": "markdown",
   "metadata": {},
   "source": [
    "Sea $i \\in \\{1, 2, ..., n\\}$ el i-ésimo producto de $n$ productos totales en la base de datos. Los valores de demanda de ventas anteriores del producto están dados por $X_{i} = \\{x_{1}, x_{2}, ..., x_{K}\\} \\in \\mathbb{R}^{n \\times K}$, donde $K$ representa la duración de la serie temporal. Además, presentamos un espacio de características externas, $Z_{i} = \\{z_{1}, z_{2}, ..., z_{K}\\} \\in \\mathbb{R}^{K \\times P}$, donde $P$ denota la dimensión característica de $Z_{i}$.\n",
    "\n",
    "El objetivo es desarrollar un modelo de predicción $f$ (una función), que utiliza los datos de ventas anteriores de todos los productos en la base de datos, es decir, $X = \\{X_{1}, X_{2}, ..., X_{n}\\} \\in \\mathbb{R}^{n \\times K}$, y la característica externa configure $Z = \\{Z_{1}, Z_{2}, ..., Z_{n}\\} \\in \\mathbb{R}^{Kn \\times P}$ para pronosticar el número $M$ de puntos de demanda de ventas futuras (en otras palabras, se trata de una extrapolación) del producto $i$, es decir, $X_{i,M} = \\{x_{t}, x_{t + 1}, ..., x_{t + M}\\}$, donde $M$ es el horizonte de pronóstico. El modelo $f$ se puede definir de la siguiente manera:\n",
    "\n",
    "$$X_{i}^{M}=f(X,Z,\\theta)$$\n",
    "\n",
    "En donde $\\theta$ es el conjunto de parámetros del modelo, los cuales se aprenden en el proceso de entrenamiento LSTM (Long short-term memory)"
   ]
  },
  {
   "cell_type": "markdown",
   "metadata": {},
   "source": [
    "# Tarea Prioritaria"
   ]
  },
  {
   "cell_type": "markdown",
   "metadata": {},
   "source": [
    "Los algoritmos tradicionales de previsión de la demanda se basan fuertemente en el pronóstico estadístico \n",
    "univariado de última generación, métodos como los métodos de suavizado exponencial y modelos ARIMA. \n",
    "Como se describió anteriormente, el pronóstico en el espacio del comercio online comúnmente necesita abordar desafíos tales como tendencias de ventas irregulares, presencia de grandes pics en la demanda de algún producto , o por el contrario escasos datos de ventas, etc. Sin embargo, se han realizado numerosos estudios emprendidos para aliviar las limitaciones de los enfoques clásicos. Esto incluye la introducción de técnicas de preprocesamiento, métodos de ingeniería de características y funciones de probabilidad modificadas.\n",
    "\n",
    "Una limitación importante de las técnicas de pronóstico univariadas es que son incapaces de utilizar\n",
    "información de series cruzadas para pronósticos. También muchos estudios basados en NN, que son reconocidas como una alternativa sólida a los enfoques tradicionales, han estado empleando NN en el forma de una técnica de pronóstico univariante. Además de mejorar la precisión del pronóstico, los modelos de casting que se basan en múltiples series de tiempo relacionadas puede contribuir positivamente al manejo de valores atípicos en un momento\n",
    "serie, puesto que al ocupar un mayor cantidad de series ayuda pulir la calidad de las observaciones."
   ]
  },
  {
   "cell_type": "markdown",
   "metadata": {},
   "source": [
    "Conjuntos de datos de ventas en la experiencia del entorno de comercio electrónico varios problemas que se pretenden abordar con los siguientes mecanismos de preprocesamiento.\n",
    "\n",
    "### Solucionar problemas de la calidad y pureza de los datos\n",
    "Hoy en día, muchas organizaciones usan Extracción, Transformación, Load (ETL) como la principal metodología de integración de datos tuberías de almacenamiento. Sin embargo, el proceso ETL es a menudo inestable en el procesamiento en tiempo real, y puede causar \"zero false\" de ventas en el conjunto de datos. Por lo tanto, distinguimos el \"real zero\" de ventas de las ventas de cero falso (\"ceros falsos\") y tratar el\n",
    "este último como falta de observaciones.\n",
    "Nuestro enfoque es en su mayoría heurístico, donde inicialmente comprendemos\n",
    "pute las ventas mínimas distintas de cero de cada artículo en los últimos 6\n",
    "meses. Luego, tratamos las ventas cero como ventas cero \"falsas\" si\n",
    "Las ventas mínimas distintas de cero de un determinado artículo son superiores a\n",
    "umbral γ. Tratamos estas ventas cero como observaciones faltantes.\n",
    "También es digno de mención que la verdad fundamental de cero\n",
    "las ventas no están disponibles, por lo tanto, pueden aparecer posibles falsos positivos\n",
    "en el conjunto de datos.\n",
    "\n",
    "### Manejo de Valores perdidos\n",
    "Se utiliza una estrategia de avance para ingresar las observaciones de ventas perdidas en el conjunto de datos. Este estrategia utiliza la observación más reciente y válida disponible para reemplazar los valores faltantes. \n",
    "### Agrupación de productos\n",
    " El empleo de una estrategia de agrupación de series temporales puede mejorar el rendimiento de la LSTM en situaciones donde las series de tiempo son dispares. Por lo tanto, se utlizan dos mecanismos de agrupación en el esquema de preprocesamiento.\n",
    " \n",
    " \n",
    "La primer etapa en que los productos objetivo se agrupan según el conocimiento disponible sobre el algún atributo. Aquí, se usan el ranking de ventas y el porcentaje de cero ventas como medidas comerciales primarias para formar grupos de productos. El primer grupo representa el grupo de productos con una clasificación de ventas (alta) y un cero (bajo) densidad de ventas. Mientras que el grupo 2  representa el producto perteneciente al grupo con un ranking de ventas (bajo) y un cero de ventas (alto) densidad, y el grupo 3 representa el resto de los productos.\n",
    "\n",
    "\n",
    "La segunda etapa se basa en la agrupación de series de tiempo, donde se realizan agrupaciones de K-means en un conjunto de series de tiempo características para identificar la agrupación de productos. \n",
    "Una descripción general de estas características, donde las dos primeras representan características específicas del negocio, mientras que el resto de ellas representan características específicas de series de tiempo. La serie de tiempo específica las características que se extraen utilizando el paquete \"tsfeatures\". Finalmente, se determina el número óptimo de grupos en la configuración del algoritmo \"K-means\".\n",
    "\n",
    "### Normalización de ventas\n",
    "La clasificación de la variedad de productos se compone de numerosos productos que siguen varios rangos de volumen de ventas, por lo tanto es necesario realizar una estrategia de normalización de datos antes de construir un modelo global. Se utiliza la tranformación media de escala , donde las ventas medias de un producto se consideran como el factor de escala. Éste se puede representar de la siguiente manera:\n",
    "$$X_{i,2}=\\frac{X_{i}}{1+\\frac{1}{k}\\sum_{t=1}^{k}X_{i,t}}$$"
   ]
  },
  {
   "cell_type": "markdown",
   "metadata": {},
   "source": [
    "# Preprocesamiento de Datos"
   ]
  },
  {
   "cell_type": "markdown",
   "metadata": {},
   "source": [
    "### Enfoque de Moving Window\n",
    "La estrategia de la ventana móvil (MW) es transformar series temporales $(X_{i})$ en pares <entrada, salida> de subconjuntos de la serie, que luego se utilizarán como datos de entrenamiento de la LSTM.\n",
    "Dada una serie temporal $X_{i} = \\{x_{1}, ...,x_{K}\\} ∈ \\mathbb{R}^{K}$ de longitud $K$, la estrategia MW convierte el $X_{i}$ en $(K - n - m)$ número de subconjuntos, donde cada subconjunto tiene un tamaño de (m + n). Aquí, n y m representan los tamaños de la ventana de entrada y la ventana de salida, respectivamente.Se hace el tamaño de la ventana de salida (m) idéntica al horizonte de pronóstico previsto, siguiendo la estrategia Multi-Input Multi-Output (MIMO) en predicción de múltiples pasos. Esto permite a nuestro modelo predecir directamente todos los valores futuros hasta el horizonte de pronóstico previsto $X_{i}^{M}$.\n"
   ]
  },
  {
   "cell_type": "markdown",
   "metadata": {},
   "source": [
    "### ARQUITECTURA DE RED LSTM\n",
    "Las LSTM son una extensión de las RNN que tienen la capacidad de aprender dependencias a largo plazo en una secuencia, superando las limitaciones de las RNN. La compuerta cohesiva (mecanismo) , es decir, puertas de entrada, salida y olvido, junto con la celda de memoria autónoma, llamado \"Carrusel de error constante\" (CEC) permite que la LSTM regule el flujo de información a través de la red esto permite que la LSTM propague el erro de la red para secuencias mucho más largas, mientras capta su término de dependencias temporales.\n",
    "Se utiliza una variante especial de LSTM, conocida como \"LSTM con conexiones de mirilla\" que requiere la LSTM\n",
    "ingresar y olvidar puertas para incorporar el estado anterior de\n",
    "la celda de memoria LSTM. "
   ]
  },
  {
   "cell_type": "markdown",
   "metadata": {},
   "source": [
    "### Variables Externas\n",
    "Se utiliza una combinación de características estáticas y dinámicas para modelar factores externos que afectan la demanda de ventas. En general, las características estáticas contienen información invariante en el tiempo, como\n",
    "tipo del producto, categoría del producto, etc. Las características dinámicas incluyen información relacionada con el calendario disponible de la situación en estudio (por ejemplo, vacaciones, temporada, día de la semana / fin de semana). Estas características pueden ser útiles para reconocer comportamientos de productos en un determinado período de tiempo.\n"
   ]
  },
  {
   "cell_type": "markdown",
   "metadata": {},
   "source": [
    "### PROCEDIMIENTO GENERAL\n",
    "El marco de pronóstico propuesto se compone de tres\n",
    "fases de procesamiento, a saber:\n",
    "   \n",
    "     \n",
    "1)Etapa de Preprocesamiento\n",
    "       \n",
    "2)Etapa de entrenamiento del LSTM\n",
    "        \n",
    "3)Etapa de Post-Procesamiento.\n",
    "   \n",
    "Inicialmente se realiza una serie de pasos de preprocesamiento para organizar los datos en bruto para el entrenamiento de la LSTM. Luego, los modelos LSTM son entrenados de acuerdo con los esquemas de aprendizaje LSTM-LS1 y LSTM-LS2. Luego, para obtener los pronósticos finales, se reescala y desnormaliza las predicciones producidas por la LSTM. Aquí, el proceso de reescalado transforma los pronósticos a su escala original de ventas, mientras que el proceso de desnormalización."
   ]
  }
 ],
 "metadata": {
  "kernelspec": {
   "display_name": "Python 3",
   "language": "python",
   "name": "python3"
  },
  "language_info": {
   "codemirror_mode": {
    "name": "ipython",
    "version": 3
   },
   "file_extension": ".py",
   "mimetype": "text/x-python",
   "name": "python",
   "nbconvert_exporter": "python",
   "pygments_lexer": "ipython3",
   "version": "3.6.9"
  }
 },
 "nbformat": 4,
 "nbformat_minor": 2
}
